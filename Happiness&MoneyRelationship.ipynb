{
 "cells": [
  {
   "cell_type": "markdown",
   "id": "6f056743",
   "metadata": {},
   "source": [
    "Suppose you want to know if money makes people happy, so you download the Better Life Index data from the OECD’s website as well as stats about GDP per capita from the IMF’s website.\n",
    "\n",
    "• Study the data.\n",
    "\n",
    "• Select a model.\n",
    "\n",
    "• Train it on the training data.\n",
    "\n",
    "• Apply the model to make predictions on new cases (this is called inference)."
   ]
  },
  {
   "cell_type": "code",
   "execution_count": 1,
   "id": "df69e9ee",
   "metadata": {},
   "outputs": [],
   "source": [
    "import matplotlib.pyplot as plt\n",
    "import numpy as np\n",
    "import pandas as pd\n",
    "\n",
    "# Load the data\n",
    "\n",
    "better_life_index_data = pd.read_csv('oecd_bli_2015.csv', thousands=',')\n",
    "gdp_per_capita = pd.read_csv(\"gdp_per_capita.csv\",thousands=',',delimiter='\\t',encoding='latin1',na_values=\"n/a\")"
   ]
  },
  {
   "cell_type": "code",
   "execution_count": 2,
   "id": "d5c02148",
   "metadata": {},
   "outputs": [
    {
     "data": {
      "text/html": [
       "<div>\n",
       "<style scoped>\n",
       "    .dataframe tbody tr th:only-of-type {\n",
       "        vertical-align: middle;\n",
       "    }\n",
       "\n",
       "    .dataframe tbody tr th {\n",
       "        vertical-align: top;\n",
       "    }\n",
       "\n",
       "    .dataframe thead th {\n",
       "        text-align: right;\n",
       "    }\n",
       "</style>\n",
       "<table border=\"1\" class=\"dataframe\">\n",
       "  <thead>\n",
       "    <tr style=\"text-align: right;\">\n",
       "      <th></th>\n",
       "      <th>GDP per Capita</th>\n",
       "      <th>Life satisfaction</th>\n",
       "    </tr>\n",
       "    <tr>\n",
       "      <th>Country</th>\n",
       "      <th></th>\n",
       "      <th></th>\n",
       "    </tr>\n",
       "  </thead>\n",
       "  <tbody>\n",
       "    <tr>\n",
       "      <th>Hungary</th>\n",
       "      <td>12239.894</td>\n",
       "      <td>4.9</td>\n",
       "    </tr>\n",
       "    <tr>\n",
       "      <th>Korea</th>\n",
       "      <td>27195.197</td>\n",
       "      <td>5.8</td>\n",
       "    </tr>\n",
       "    <tr>\n",
       "      <th>France</th>\n",
       "      <td>37675.006</td>\n",
       "      <td>6.5</td>\n",
       "    </tr>\n",
       "    <tr>\n",
       "      <th>Australia</th>\n",
       "      <td>50961.865</td>\n",
       "      <td>7.3</td>\n",
       "    </tr>\n",
       "    <tr>\n",
       "      <th>United States</th>\n",
       "      <td>55805.204</td>\n",
       "      <td>7.2</td>\n",
       "    </tr>\n",
       "  </tbody>\n",
       "</table>\n",
       "</div>"
      ],
      "text/plain": [
       "               GDP per Capita  Life satisfaction\n",
       "Country                                         \n",
       "Hungary             12239.894                4.9\n",
       "Korea               27195.197                5.8\n",
       "France              37675.006                6.5\n",
       "Australia           50961.865                7.3\n",
       "United States       55805.204                7.2"
      ]
     },
     "execution_count": 2,
     "metadata": {},
     "output_type": "execute_result"
    }
   ],
   "source": [
    "# Prepare the data\n",
    "\n",
    "def preparing_country_stats(better_life_index_data, gdp_per_capita):\n",
    "    better_life_index_data = better_life_index_data[better_life_index_data[\"INEQUALITY\"]==\"TOT\"]\n",
    "    better_life_index_data = better_life_index_data.pivot(index=\"Country\", columns=\"Indicator\", values=\"Value\")\n",
    "    gdp_per_capita.rename(columns={\"2015\":\"GDP per Capita\"},inplace=True)\n",
    "    gdp_per_capita.set_index(\"Country\",inplace=True)\n",
    "    country_statistics = pd.merge(left=better_life_index_data,right=gdp_per_capita,left_index=True,right_index=True)\n",
    "    country_statistics.sort_values(by=\"GDP per Capita\",inplace=True)\n",
    "    return country_statistics[[\"GDP per Capita\", 'Life satisfaction']].iloc[[4, 14, 19, 29, 32]]\n",
    "\n",
    "country_stats = preparing_country_stats(better_life_index_data, gdp_per_capita)\n",
    "country_stats"
   ]
  },
  {
   "cell_type": "code",
   "execution_count": 3,
   "id": "3f71d808",
   "metadata": {},
   "outputs": [],
   "source": [
    "X = np.c_[country_stats[\"GDP per Capita\"]]\n",
    "y = np.c_[country_stats[\"Life satisfaction\"]]"
   ]
  },
  {
   "cell_type": "code",
   "execution_count": 4,
   "id": "510fd018",
   "metadata": {},
   "outputs": [
    {
     "data": {
      "image/png": "[encoded data removed]",
      "text/plain": [
       "<Figure size 432x288 with 1 Axes>"
      ]
     },
     "metadata": {
      "needs_background": "light"
     },
     "output_type": "display_data"
    }
   ],
   "source": [
    "# Visualize the data\n",
    "\n",
    "country_stats.plot(kind='scatter', x=\"GDP per Capita\", y='Life satisfaction',color='red')\n",
    "plt.show()"
   ]
  },
  {
   "cell_type": "code",
   "execution_count": 5,
   "id": "92799ff5",
   "metadata": {},
   "outputs": [
    {
     "name": "stdout",
     "output_type": "stream",
     "text": [
      "[[5.54334198]]\n"
     ]
    }
   ],
   "source": [
    "from sklearn.linear_model import LinearRegression\n",
    "\n",
    "# Select a linear model\n",
    "\n",
    "linear_model = LinearRegression()\n",
    "\n",
    "# Train the model\n",
    "\n",
    "linear_model.fit(X, y)\n",
    "\n",
    "# Make a prediction for Cyprus\n",
    "\n",
    "X_new = [[22587]] # Cyprus' GDP per capita\n",
    "print(linear_model.predict(X_new))"
   ]
  },
  {
   "cell_type": "markdown",
   "id": "4359668e",
   "metadata": {},
   "source": [
    "Replacing the Linear Regression model with k-Nearest Neighbors (in this example, k = 3) regression in the previous code is as simple as replacing these two lines:"
   ]
  },
  {
   "cell_type": "code",
   "execution_count": 6,
   "id": "53affcfb",
   "metadata": {},
   "outputs": [
    {
     "name": "stdout",
     "output_type": "stream",
     "text": [
      "[[5.73333333]]\n"
     ]
    }
   ],
   "source": [
    "from sklearn.neighbors import KNeighborsRegressor\n",
    "\n",
    "# Select a KNN model\n",
    "\n",
    "knn_model = KNeighborsRegressor(n_neighbors=3)\n",
    "\n",
    "# Train the model\n",
    "\n",
    "knn_model.fit(X, y)\n",
    "\n",
    "# Make a prediction for Cyprus\n",
    "\n",
    "X_new = [[22587]] # Cyprus' GDP per capita\n",
    "print(knn_model.predict(X_new))"
   ]
  }
 ],
 "metadata": {
  "kernelspec": {
   "display_name": "Python 3",
   "language": "python",
   "name": "python3"
  },
  "language_info": {
   "codemirror_mode": {
    "name": "ipython",
    "version": 3
   },
   "file_extension": ".py",
   "mimetype": "text/x-python",
   "name": "python",
   "nbconvert_exporter": "python",
   "pygments_lexer": "ipython3",
   "version": "3.8.8"
  }
 },
 "nbformat": 4,
 "nbformat_minor": 5
}
